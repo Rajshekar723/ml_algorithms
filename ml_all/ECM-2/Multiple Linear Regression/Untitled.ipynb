{
 "cells": [
  {
   "cell_type": "code",
   "execution_count": 1,
   "id": "5ddad431",
   "metadata": {},
   "outputs": [],
   "source": [
    "import pandas as pd\n",
    "df=pd.read_csv('heart.data.csv')"
   ]
  },
  {
   "cell_type": "code",
   "execution_count": 3,
   "id": "921a8dc7",
   "metadata": {},
   "outputs": [
    {
     "data": {
      "text/plain": [
       "(498, 4)"
      ]
     },
     "execution_count": 3,
     "metadata": {},
     "output_type": "execute_result"
    }
   ],
   "source": [
    "df.shape"
   ]
  },
  {
   "cell_type": "code",
   "execution_count": 4,
   "id": "5419a32c",
   "metadata": {},
   "outputs": [
    {
     "data": {
      "text/html": [
       "<div>\n",
       "<style scoped>\n",
       "    .dataframe tbody tr th:only-of-type {\n",
       "        vertical-align: middle;\n",
       "    }\n",
       "\n",
       "    .dataframe tbody tr th {\n",
       "        vertical-align: top;\n",
       "    }\n",
       "\n",
       "    .dataframe thead th {\n",
       "        text-align: right;\n",
       "    }\n",
       "</style>\n",
       "<table border=\"1\" class=\"dataframe\">\n",
       "  <thead>\n",
       "    <tr style=\"text-align: right;\">\n",
       "      <th></th>\n",
       "      <th>Unnamed: 0</th>\n",
       "      <th>biking</th>\n",
       "      <th>smoking</th>\n",
       "      <th>heart.disease</th>\n",
       "    </tr>\n",
       "  </thead>\n",
       "  <tbody>\n",
       "    <tr>\n",
       "      <th>0</th>\n",
       "      <td>1</td>\n",
       "      <td>30.801246</td>\n",
       "      <td>10.896608</td>\n",
       "      <td>11.769423</td>\n",
       "    </tr>\n",
       "    <tr>\n",
       "      <th>1</th>\n",
       "      <td>2</td>\n",
       "      <td>65.129215</td>\n",
       "      <td>2.219563</td>\n",
       "      <td>2.854081</td>\n",
       "    </tr>\n",
       "    <tr>\n",
       "      <th>2</th>\n",
       "      <td>3</td>\n",
       "      <td>1.959665</td>\n",
       "      <td>17.588331</td>\n",
       "      <td>17.177803</td>\n",
       "    </tr>\n",
       "    <tr>\n",
       "      <th>3</th>\n",
       "      <td>4</td>\n",
       "      <td>44.800196</td>\n",
       "      <td>2.802559</td>\n",
       "      <td>6.816647</td>\n",
       "    </tr>\n",
       "    <tr>\n",
       "      <th>4</th>\n",
       "      <td>5</td>\n",
       "      <td>69.428454</td>\n",
       "      <td>15.974505</td>\n",
       "      <td>4.062224</td>\n",
       "    </tr>\n",
       "  </tbody>\n",
       "</table>\n",
       "</div>"
      ],
      "text/plain": [
       "   Unnamed: 0     biking    smoking  heart.disease\n",
       "0           1  30.801246  10.896608      11.769423\n",
       "1           2  65.129215   2.219563       2.854081\n",
       "2           3   1.959665  17.588331      17.177803\n",
       "3           4  44.800196   2.802559       6.816647\n",
       "4           5  69.428454  15.974505       4.062224"
      ]
     },
     "execution_count": 4,
     "metadata": {},
     "output_type": "execute_result"
    }
   ],
   "source": [
    "df.head()"
   ]
  },
  {
   "cell_type": "code",
   "execution_count": 5,
   "id": "bc8d1466",
   "metadata": {},
   "outputs": [],
   "source": [
    "del df['Unnamed: 0']"
   ]
  },
  {
   "cell_type": "code",
   "execution_count": 6,
   "id": "0abb51ca",
   "metadata": {},
   "outputs": [
    {
     "data": {
      "text/plain": [
       "(498, 3)"
      ]
     },
     "execution_count": 6,
     "metadata": {},
     "output_type": "execute_result"
    }
   ],
   "source": [
    "df.shape"
   ]
  },
  {
   "cell_type": "code",
   "execution_count": 7,
   "id": "355c4e08",
   "metadata": {},
   "outputs": [
    {
     "data": {
      "text/html": [
       "<div>\n",
       "<style scoped>\n",
       "    .dataframe tbody tr th:only-of-type {\n",
       "        vertical-align: middle;\n",
       "    }\n",
       "\n",
       "    .dataframe tbody tr th {\n",
       "        vertical-align: top;\n",
       "    }\n",
       "\n",
       "    .dataframe thead th {\n",
       "        text-align: right;\n",
       "    }\n",
       "</style>\n",
       "<table border=\"1\" class=\"dataframe\">\n",
       "  <thead>\n",
       "    <tr style=\"text-align: right;\">\n",
       "      <th></th>\n",
       "      <th>biking</th>\n",
       "      <th>smoking</th>\n",
       "      <th>heart.disease</th>\n",
       "    </tr>\n",
       "  </thead>\n",
       "  <tbody>\n",
       "    <tr>\n",
       "      <th>0</th>\n",
       "      <td>30.801246</td>\n",
       "      <td>10.896608</td>\n",
       "      <td>11.769423</td>\n",
       "    </tr>\n",
       "    <tr>\n",
       "      <th>1</th>\n",
       "      <td>65.129215</td>\n",
       "      <td>2.219563</td>\n",
       "      <td>2.854081</td>\n",
       "    </tr>\n",
       "    <tr>\n",
       "      <th>2</th>\n",
       "      <td>1.959665</td>\n",
       "      <td>17.588331</td>\n",
       "      <td>17.177803</td>\n",
       "    </tr>\n",
       "    <tr>\n",
       "      <th>3</th>\n",
       "      <td>44.800196</td>\n",
       "      <td>2.802559</td>\n",
       "      <td>6.816647</td>\n",
       "    </tr>\n",
       "    <tr>\n",
       "      <th>4</th>\n",
       "      <td>69.428454</td>\n",
       "      <td>15.974505</td>\n",
       "      <td>4.062224</td>\n",
       "    </tr>\n",
       "  </tbody>\n",
       "</table>\n",
       "</div>"
      ],
      "text/plain": [
       "      biking    smoking  heart.disease\n",
       "0  30.801246  10.896608      11.769423\n",
       "1  65.129215   2.219563       2.854081\n",
       "2   1.959665  17.588331      17.177803\n",
       "3  44.800196   2.802559       6.816647\n",
       "4  69.428454  15.974505       4.062224"
      ]
     },
     "execution_count": 7,
     "metadata": {},
     "output_type": "execute_result"
    }
   ],
   "source": [
    "df.head()"
   ]
  },
  {
   "cell_type": "code",
   "execution_count": 8,
   "id": "4d73ef87",
   "metadata": {},
   "outputs": [
    {
     "data": {
      "text/plain": [
       "biking           498\n",
       "smoking          498\n",
       "heart.disease    498\n",
       "dtype: int64"
      ]
     },
     "execution_count": 8,
     "metadata": {},
     "output_type": "execute_result"
    }
   ],
   "source": [
    "df.count()"
   ]
  },
  {
   "cell_type": "code",
   "execution_count": 9,
   "id": "3729f900",
   "metadata": {},
   "outputs": [],
   "source": [
    "N=498"
   ]
  },
  {
   "cell_type": "code",
   "execution_count": 10,
   "id": "33574515",
   "metadata": {},
   "outputs": [],
   "source": [
    "x1_mean=df['biking'].mean()\n",
    "x2_mean=df['smoking'].mean()\n",
    "y_mean=df['heart.disease'].mean()"
   ]
  },
  {
   "cell_type": "code",
   "execution_count": 11,
   "id": "1a34e664",
   "metadata": {},
   "outputs": [],
   "source": [
    "df['x1*x1']=df['biking']*df['biking']\n",
    "df['x2*x2']=df['smoking']*df['smoking']\n",
    "df['x1*x2']=df['smoking']*df['biking']\n",
    "df['x1*y']=df['biking']*df['heart.disease']\n",
    "df['x2*y']=df['smoking']*df['heart.disease']"
   ]
  },
  {
   "cell_type": "code",
   "execution_count": 12,
   "id": "ca7876ea",
   "metadata": {},
   "outputs": [
    {
     "data": {
      "text/html": [
       "<div>\n",
       "<style scoped>\n",
       "    .dataframe tbody tr th:only-of-type {\n",
       "        vertical-align: middle;\n",
       "    }\n",
       "\n",
       "    .dataframe tbody tr th {\n",
       "        vertical-align: top;\n",
       "    }\n",
       "\n",
       "    .dataframe thead th {\n",
       "        text-align: right;\n",
       "    }\n",
       "</style>\n",
       "<table border=\"1\" class=\"dataframe\">\n",
       "  <thead>\n",
       "    <tr style=\"text-align: right;\">\n",
       "      <th></th>\n",
       "      <th>biking</th>\n",
       "      <th>smoking</th>\n",
       "      <th>heart.disease</th>\n",
       "      <th>x1*x1</th>\n",
       "      <th>x2*x2</th>\n",
       "      <th>x1*x2</th>\n",
       "      <th>x1*y</th>\n",
       "      <th>x2*y</th>\n",
       "    </tr>\n",
       "  </thead>\n",
       "  <tbody>\n",
       "    <tr>\n",
       "      <th>0</th>\n",
       "      <td>30.801246</td>\n",
       "      <td>10.896608</td>\n",
       "      <td>11.769423</td>\n",
       "      <td>948.716737</td>\n",
       "      <td>118.736066</td>\n",
       "      <td>335.629101</td>\n",
       "      <td>362.512883</td>\n",
       "      <td>128.246787</td>\n",
       "    </tr>\n",
       "    <tr>\n",
       "      <th>1</th>\n",
       "      <td>65.129215</td>\n",
       "      <td>2.219563</td>\n",
       "      <td>2.854081</td>\n",
       "      <td>4241.814668</td>\n",
       "      <td>4.926461</td>\n",
       "      <td>144.558408</td>\n",
       "      <td>185.884087</td>\n",
       "      <td>6.334814</td>\n",
       "    </tr>\n",
       "    <tr>\n",
       "      <th>2</th>\n",
       "      <td>1.959665</td>\n",
       "      <td>17.588331</td>\n",
       "      <td>17.177803</td>\n",
       "      <td>3.840285</td>\n",
       "      <td>309.349370</td>\n",
       "      <td>34.467227</td>\n",
       "      <td>33.662732</td>\n",
       "      <td>302.128885</td>\n",
       "    </tr>\n",
       "    <tr>\n",
       "      <th>3</th>\n",
       "      <td>44.800196</td>\n",
       "      <td>2.802559</td>\n",
       "      <td>6.816647</td>\n",
       "      <td>2007.057527</td>\n",
       "      <td>7.854336</td>\n",
       "      <td>125.555186</td>\n",
       "      <td>305.387115</td>\n",
       "      <td>19.104054</td>\n",
       "    </tr>\n",
       "    <tr>\n",
       "      <th>4</th>\n",
       "      <td>69.428454</td>\n",
       "      <td>15.974505</td>\n",
       "      <td>4.062224</td>\n",
       "      <td>4820.310180</td>\n",
       "      <td>255.184797</td>\n",
       "      <td>1109.085152</td>\n",
       "      <td>282.033898</td>\n",
       "      <td>64.892008</td>\n",
       "    </tr>\n",
       "  </tbody>\n",
       "</table>\n",
       "</div>"
      ],
      "text/plain": [
       "      biking    smoking  heart.disease        x1*x1       x2*x2        x1*x2  \\\n",
       "0  30.801246  10.896608      11.769423   948.716737  118.736066   335.629101   \n",
       "1  65.129215   2.219563       2.854081  4241.814668    4.926461   144.558408   \n",
       "2   1.959665  17.588331      17.177803     3.840285  309.349370    34.467227   \n",
       "3  44.800196   2.802559       6.816647  2007.057527    7.854336   125.555186   \n",
       "4  69.428454  15.974505       4.062224  4820.310180  255.184797  1109.085152   \n",
       "\n",
       "         x1*y        x2*y  \n",
       "0  362.512883  128.246787  \n",
       "1  185.884087    6.334814  \n",
       "2   33.662732  302.128885  \n",
       "3  305.387115   19.104054  \n",
       "4  282.033898   64.892008  "
      ]
     },
     "execution_count": 12,
     "metadata": {},
     "output_type": "execute_result"
    }
   ],
   "source": [
    "df.head()"
   ]
  },
  {
   "cell_type": "code",
   "execution_count": 13,
   "id": "a94b9926",
   "metadata": {},
   "outputs": [],
   "source": [
    "#calculating reqd sums\n",
    "x1_square=(df['x1*x1'].sum())-(df['biking'].sum()**2)/N\n",
    "x2_square=df['x2*x2'].sum()-(df['smoking'].sum()**2)/N\n",
    "x1x2=df['x1*x2'].sum()-(df['biking'].sum()*df['smoking'].sum())/N\n",
    "x1x2_square=x1x2*x1x2\n",
    "x1y=df['x1*y'].sum()-(df['biking'].sum()*df['heart.disease'].sum())/N\n",
    "x2y=df['x2*y'].sum()-(df['smoking'].sum()*df['heart.disease'].sum())/N"
   ]
  },
  {
   "cell_type": "code",
   "execution_count": 19,
   "id": "6795aa4e",
   "metadata": {},
   "outputs": [
    {
     "data": {
      "text/plain": [
       "-0.20013305195862285"
      ]
     },
     "execution_count": 19,
     "metadata": {},
     "output_type": "execute_result"
    }
   ],
   "source": [
    "#calculating b1,b2,b0 using formula\n",
    "b1=((x2_square*x1y)-(x1x2*x2y))/((x1_square*x2_square)-(x1x2_square))\n",
    "b1"
   ]
  },
  {
   "cell_type": "code",
   "execution_count": 20,
   "id": "ca89b699",
   "metadata": {},
   "outputs": [
    {
     "data": {
      "text/plain": [
       "0.17833391383818653"
      ]
     },
     "execution_count": 20,
     "metadata": {},
     "output_type": "execute_result"
    }
   ],
   "source": [
    "b2=((x1_square*x2y)-(x1x2*x1y))/((x1_square*x2_square)-(x1x2_square))\n",
    "b2"
   ]
  },
  {
   "cell_type": "code",
   "execution_count": 21,
   "id": "5a2c5b2c",
   "metadata": {},
   "outputs": [
    {
     "data": {
      "text/plain": [
       "14.984657987225837"
      ]
     },
     "execution_count": 21,
     "metadata": {},
     "output_type": "execute_result"
    }
   ],
   "source": [
    "b0=y_mean-b1*x1_mean-b2*x2_mean\n",
    "b0"
   ]
  },
  {
   "cell_type": "code",
   "execution_count": 22,
   "id": "b3495b59",
   "metadata": {},
   "outputs": [
    {
     "data": {
      "text/plain": [
       "15.549340484610225"
      ]
     },
     "execution_count": 22,
     "metadata": {},
     "output_type": "execute_result"
    }
   ],
   "source": [
    "#predict Y when x1=15, x2=20\n",
    "y_pred=(b1*15)+(b2*20)+b0\n",
    "y_pred"
   ]
  },
  {
   "cell_type": "code",
   "execution_count": 23,
   "id": "2b0e0fd1",
   "metadata": {},
   "outputs": [],
   "source": [
    "#checking using sklearn LinearRegression function\n",
    "from sklearn.linear_model import LinearRegression\n",
    "x=df[['biking','smoking']]\n",
    "y=df['heart.disease']\n",
    "model=LinearRegression().fit(x,y)"
   ]
  },
  {
   "cell_type": "code",
   "execution_count": 24,
   "id": "fd6daf8d",
   "metadata": {},
   "outputs": [
    {
     "data": {
      "text/plain": [
       "array([15.54934048])"
      ]
     },
     "execution_count": 24,
     "metadata": {},
     "output_type": "execute_result"
    }
   ],
   "source": [
    "model.predict([[15,20]])"
   ]
  },
  {
   "cell_type": "code",
   "execution_count": null,
   "id": "39c8796c",
   "metadata": {},
   "outputs": [],
   "source": []
  }
 ],
 "metadata": {
  "kernelspec": {
   "display_name": "Python 3",
   "language": "python",
   "name": "python3"
  },
  "language_info": {
   "codemirror_mode": {
    "name": "ipython",
    "version": 3
   },
   "file_extension": ".py",
   "mimetype": "text/x-python",
   "name": "python",
   "nbconvert_exporter": "python",
   "pygments_lexer": "ipython3",
   "version": "3.8.8"
  }
 },
 "nbformat": 4,
 "nbformat_minor": 5
}
