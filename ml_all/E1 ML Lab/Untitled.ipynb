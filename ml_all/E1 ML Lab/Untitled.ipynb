{
 "cells": [
  {
   "cell_type": "code",
   "execution_count": 2,
   "id": "1a69b001",
   "metadata": {},
   "outputs": [
    {
     "name": "stdout",
     "output_type": "stream",
     "text": [
      "VIDYA SAGAR\n"
     ]
    }
   ],
   "source": [
    "s='VIDYA SAGAR'\n",
    "print(s)"
   ]
  },
  {
   "cell_type": "code",
   "execution_count": 3,
   "id": "9793b97c",
   "metadata": {},
   "outputs": [
    {
     "data": {
      "text/plain": [
       "str"
      ]
     },
     "execution_count": 3,
     "metadata": {},
     "output_type": "execute_result"
    }
   ],
   "source": [
    "type(s)"
   ]
  },
  {
   "cell_type": "code",
   "execution_count": 4,
   "id": "d9a7c91b",
   "metadata": {},
   "outputs": [
    {
     "data": {
      "text/plain": [
       "11"
      ]
     },
     "execution_count": 4,
     "metadata": {},
     "output_type": "execute_result"
    }
   ],
   "source": [
    "len(s)"
   ]
  },
  {
   "cell_type": "code",
   "execution_count": 5,
   "id": "938cb792",
   "metadata": {},
   "outputs": [
    {
     "data": {
      "text/plain": [
       "'Y'"
      ]
     },
     "execution_count": 5,
     "metadata": {},
     "output_type": "execute_result"
    }
   ],
   "source": [
    "s[3]"
   ]
  },
  {
   "cell_type": "code",
   "execution_count": 6,
   "id": "ba61b040",
   "metadata": {},
   "outputs": [
    {
     "data": {
      "text/plain": [
       "'R'"
      ]
     },
     "execution_count": 6,
     "metadata": {},
     "output_type": "execute_result"
    }
   ],
   "source": [
    "s[-1]"
   ]
  },
  {
   "cell_type": "code",
   "execution_count": 8,
   "id": "3e9172b2",
   "metadata": {},
   "outputs": [
    {
     "data": {
      "text/plain": [
       "'G'"
      ]
     },
     "execution_count": 8,
     "metadata": {},
     "output_type": "execute_result"
    }
   ],
   "source": [
    "s[-3]"
   ]
  },
  {
   "cell_type": "code",
   "execution_count": 9,
   "id": "995a77dc",
   "metadata": {},
   "outputs": [
    {
     "data": {
      "text/plain": [
       "'VIDYA'"
      ]
     },
     "execution_count": 9,
     "metadata": {},
     "output_type": "execute_result"
    }
   ],
   "source": [
    "s[0:5]"
   ]
  },
  {
   "cell_type": "code",
   "execution_count": 10,
   "id": "590198ec",
   "metadata": {},
   "outputs": [
    {
     "data": {
      "text/plain": [
       "'SAGA'"
      ]
     },
     "execution_count": 10,
     "metadata": {},
     "output_type": "execute_result"
    }
   ],
   "source": [
    "s[-5:-1]"
   ]
  },
  {
   "cell_type": "code",
   "execution_count": 11,
   "id": "ade34920",
   "metadata": {},
   "outputs": [
    {
     "data": {
      "text/plain": [
       "'SAGAR'"
      ]
     },
     "execution_count": 11,
     "metadata": {},
     "output_type": "execute_result"
    }
   ],
   "source": [
    "s[-5:]"
   ]
  },
  {
   "cell_type": "code",
   "execution_count": 12,
   "id": "2b6e5fde",
   "metadata": {},
   "outputs": [
    {
     "ename": "TypeError",
     "evalue": "'str' object does not support item assignment",
     "output_type": "error",
     "traceback": [
      "\u001b[1;31m---------------------------------------------------------------------------\u001b[0m",
      "\u001b[1;31mTypeError\u001b[0m                                 Traceback (most recent call last)",
      "\u001b[1;32m<ipython-input-12-340847876662>\u001b[0m in \u001b[0;36m<module>\u001b[1;34m\u001b[0m\n\u001b[1;32m----> 1\u001b[1;33m \u001b[0ms\u001b[0m\u001b[1;33m[\u001b[0m\u001b[1;36m3\u001b[0m\u001b[1;33m]\u001b[0m\u001b[1;33m=\u001b[0m\u001b[1;34m'y'\u001b[0m\u001b[1;33m\u001b[0m\u001b[1;33m\u001b[0m\u001b[0m\n\u001b[0m",
      "\u001b[1;31mTypeError\u001b[0m: 'str' object does not support item assignment"
     ]
    }
   ],
   "source": [
    "s[3]='y'"
   ]
  },
  {
   "cell_type": "code",
   "execution_count": 14,
   "id": "be258ef0",
   "metadata": {},
   "outputs": [
    {
     "data": {
      "text/plain": [
       "'BIDYA SAGAR'"
      ]
     },
     "execution_count": 14,
     "metadata": {},
     "output_type": "execute_result"
    }
   ],
   "source": [
    "s.replace('V','B')"
   ]
  },
  {
   "cell_type": "code",
   "execution_count": 15,
   "id": "e5609ff2",
   "metadata": {},
   "outputs": [
    {
     "data": {
      "text/plain": [
       "'VIDYA SAGAR'"
      ]
     },
     "execution_count": 15,
     "metadata": {},
     "output_type": "execute_result"
    }
   ],
   "source": [
    "s"
   ]
  },
  {
   "cell_type": "code",
   "execution_count": 16,
   "id": "3930e986",
   "metadata": {},
   "outputs": [
    {
     "data": {
      "text/plain": [
       "'vidya sagar'"
      ]
     },
     "execution_count": 16,
     "metadata": {},
     "output_type": "execute_result"
    }
   ],
   "source": [
    "s.lower()"
   ]
  },
  {
   "cell_type": "code",
   "execution_count": 17,
   "id": "7705dea7",
   "metadata": {},
   "outputs": [
    {
     "data": {
      "text/plain": [
       "'VIDYA SAGAR'"
      ]
     },
     "execution_count": 17,
     "metadata": {},
     "output_type": "execute_result"
    }
   ],
   "source": [
    "s"
   ]
  },
  {
   "cell_type": "code",
   "execution_count": 19,
   "id": "69ac5e71",
   "metadata": {},
   "outputs": [],
   "source": [
    "s1='Dr.'"
   ]
  },
  {
   "cell_type": "code",
   "execution_count": 20,
   "id": "cc31dfe0",
   "metadata": {},
   "outputs": [
    {
     "name": "stdout",
     "output_type": "stream",
     "text": [
      "Dr. VIDYA SAGAR\n"
     ]
    }
   ],
   "source": [
    "print(s1+' '+s)"
   ]
  },
  {
   "cell_type": "code",
   "execution_count": 21,
   "id": "c9fc19dd",
   "metadata": {},
   "outputs": [
    {
     "data": {
      "text/plain": [
       "0"
      ]
     },
     "execution_count": 21,
     "metadata": {},
     "output_type": "execute_result"
    }
   ],
   "source": [
    "s.find('V')"
   ]
  },
  {
   "cell_type": "code",
   "execution_count": 23,
   "id": "20cdff26",
   "metadata": {},
   "outputs": [
    {
     "name": "stdout",
     "output_type": "stream",
     "text": [
      "['V', 'I', 'D', 'Y', 'A', ' ', 'S', 'A', 'G', 'A', 'R']\n"
     ]
    }
   ],
   "source": [
    "L=list(s)\n",
    "print(L)"
   ]
  },
  {
   "cell_type": "code",
   "execution_count": 24,
   "id": "14c88e1e",
   "metadata": {},
   "outputs": [
    {
     "name": "stdout",
     "output_type": "stream",
     "text": [
      "['B', 'I', 'D', 'Y', 'A', ' ', 'S', 'A', 'G', 'A', 'R']\n"
     ]
    }
   ],
   "source": [
    "L[0]='B'\n",
    "print(L)"
   ]
  },
  {
   "cell_type": "code",
   "execution_count": 28,
   "id": "59f7eea3",
   "metadata": {},
   "outputs": [
    {
     "data": {
      "text/plain": [
       "'BIDYA SAGAR'"
      ]
     },
     "execution_count": 28,
     "metadata": {},
     "output_type": "execute_result"
    }
   ],
   "source": [
    "''.join(L)"
   ]
  },
  {
   "cell_type": "code",
   "execution_count": 29,
   "id": "e95e4a55",
   "metadata": {},
   "outputs": [
    {
     "name": "stdout",
     "output_type": "stream",
     "text": [
      "[1, 2, 3, [11, 12, 13], 'SAGAR', 15.0]\n"
     ]
    }
   ],
   "source": [
    "L1=[1,2,3,[11,12,13],'SAGAR',15.0]\n",
    "print(L1)"
   ]
  },
  {
   "cell_type": "code",
   "execution_count": 30,
   "id": "b3ebdd4e",
   "metadata": {},
   "outputs": [
    {
     "data": {
      "text/plain": [
       "6"
      ]
     },
     "execution_count": 30,
     "metadata": {},
     "output_type": "execute_result"
    }
   ],
   "source": [
    "len(L1)"
   ]
  },
  {
   "cell_type": "code",
   "execution_count": 31,
   "id": "fd9899cc",
   "metadata": {},
   "outputs": [
    {
     "data": {
      "text/plain": [
       "3"
      ]
     },
     "execution_count": 31,
     "metadata": {},
     "output_type": "execute_result"
    }
   ],
   "source": [
    "L1[2]"
   ]
  },
  {
   "cell_type": "code",
   "execution_count": 36,
   "id": "c05853bc",
   "metadata": {},
   "outputs": [],
   "source": [
    "L1[3].append(14)"
   ]
  },
  {
   "cell_type": "code",
   "execution_count": 37,
   "id": "43d3e549",
   "metadata": {},
   "outputs": [
    {
     "data": {
      "text/plain": [
       "[1, 2, 3, [11, 12, 13, 14], 'SAGAR', 15.0]"
      ]
     },
     "execution_count": 37,
     "metadata": {},
     "output_type": "execute_result"
    }
   ],
   "source": [
    "L1"
   ]
  },
  {
   "cell_type": "code",
   "execution_count": 39,
   "id": "c7fd8498",
   "metadata": {},
   "outputs": [
    {
     "ename": "AttributeError",
     "evalue": "'str' object has no attribute 'append'",
     "output_type": "error",
     "traceback": [
      "\u001b[1;31m---------------------------------------------------------------------------\u001b[0m",
      "\u001b[1;31mAttributeError\u001b[0m                            Traceback (most recent call last)",
      "\u001b[1;32m<ipython-input-39-4c0b65848249>\u001b[0m in \u001b[0;36m<module>\u001b[1;34m\u001b[0m\n\u001b[1;32m----> 1\u001b[1;33m \u001b[0mL1\u001b[0m\u001b[1;33m[\u001b[0m\u001b[1;36m4\u001b[0m\u001b[1;33m]\u001b[0m\u001b[1;33m.\u001b[0m\u001b[0mappend\u001b[0m\u001b[1;33m(\u001b[0m\u001b[1;34m'K N'\u001b[0m\u001b[1;33m)\u001b[0m\u001b[1;33m\u001b[0m\u001b[1;33m\u001b[0m\u001b[0m\n\u001b[0m",
      "\u001b[1;31mAttributeError\u001b[0m: 'str' object has no attribute 'append'"
     ]
    }
   ],
   "source": [
    "L1[4].append('K N')"
   ]
  },
  {
   "cell_type": "code",
   "execution_count": 40,
   "id": "94edb015",
   "metadata": {},
   "outputs": [
    {
     "data": {
      "text/plain": [
       "15.0"
      ]
     },
     "execution_count": 40,
     "metadata": {},
     "output_type": "execute_result"
    }
   ],
   "source": [
    "L1.pop()"
   ]
  },
  {
   "cell_type": "code",
   "execution_count": 41,
   "id": "fc3df016",
   "metadata": {},
   "outputs": [
    {
     "data": {
      "text/plain": [
       "[1, 2, 3, [11, 12, 13, 14], 'SAGAR']"
      ]
     },
     "execution_count": 41,
     "metadata": {},
     "output_type": "execute_result"
    }
   ],
   "source": [
    "L1"
   ]
  },
  {
   "cell_type": "code",
   "execution_count": 42,
   "id": "e2c2890f",
   "metadata": {},
   "outputs": [
    {
     "data": {
      "text/plain": [
       "['B',\n",
       " 'I',\n",
       " 'D',\n",
       " 'Y',\n",
       " 'A',\n",
       " ' ',\n",
       " 'S',\n",
       " 'A',\n",
       " 'G',\n",
       " 'A',\n",
       " 'R',\n",
       " 1,\n",
       " 2,\n",
       " 3,\n",
       " [11, 12, 13, 14],\n",
       " 'SAGAR']"
      ]
     },
     "execution_count": 42,
     "metadata": {},
     "output_type": "execute_result"
    }
   ],
   "source": [
    "L+L1"
   ]
  },
  {
   "cell_type": "code",
   "execution_count": 43,
   "id": "983319a3",
   "metadata": {},
   "outputs": [
    {
     "data": {
      "text/plain": [
       "1"
      ]
     },
     "execution_count": 43,
     "metadata": {},
     "output_type": "execute_result"
    }
   ],
   "source": [
    "L1.pop(0)"
   ]
  },
  {
   "cell_type": "code",
   "execution_count": 44,
   "id": "8016b5f7",
   "metadata": {},
   "outputs": [
    {
     "data": {
      "text/plain": [
       "[3, [11, 12, 13, 14]]"
      ]
     },
     "execution_count": 44,
     "metadata": {},
     "output_type": "execute_result"
    }
   ],
   "source": [
    "L1[1:3]"
   ]
  },
  {
   "cell_type": "code",
   "execution_count": 46,
   "id": "a12eb7d1",
   "metadata": {},
   "outputs": [
    {
     "name": "stdout",
     "output_type": "stream",
     "text": [
      "(1, 2, [11, 12, 13], 'ML')\n"
     ]
    }
   ],
   "source": [
    "T=(1,2,[11,12,13],'ML')\n",
    "print(T)"
   ]
  },
  {
   "cell_type": "code",
   "execution_count": 47,
   "id": "1e655ab7",
   "metadata": {},
   "outputs": [
    {
     "data": {
      "text/plain": [
       "tuple"
      ]
     },
     "execution_count": 47,
     "metadata": {},
     "output_type": "execute_result"
    }
   ],
   "source": [
    "type(T)"
   ]
  },
  {
   "cell_type": "code",
   "execution_count": 48,
   "id": "abb7eb40",
   "metadata": {},
   "outputs": [
    {
     "data": {
      "text/plain": [
       "4"
      ]
     },
     "execution_count": 48,
     "metadata": {},
     "output_type": "execute_result"
    }
   ],
   "source": [
    "len(T)"
   ]
  },
  {
   "cell_type": "code",
   "execution_count": 49,
   "id": "1dcf7533",
   "metadata": {},
   "outputs": [],
   "source": [
    "T[2][0]=14"
   ]
  },
  {
   "cell_type": "code",
   "execution_count": 50,
   "id": "5713b9fb",
   "metadata": {},
   "outputs": [
    {
     "data": {
      "text/plain": [
       "(1, 2, [14, 12, 13], 'ML')"
      ]
     },
     "execution_count": 50,
     "metadata": {},
     "output_type": "execute_result"
    }
   ],
   "source": [
    "T"
   ]
  },
  {
   "cell_type": "code",
   "execution_count": 51,
   "id": "2a5ff593",
   "metadata": {},
   "outputs": [
    {
     "ename": "TypeError",
     "evalue": "'tuple' object does not support item assignment",
     "output_type": "error",
     "traceback": [
      "\u001b[1;31m---------------------------------------------------------------------------\u001b[0m",
      "\u001b[1;31mTypeError\u001b[0m                                 Traceback (most recent call last)",
      "\u001b[1;32m<ipython-input-51-6535caed2012>\u001b[0m in \u001b[0;36m<module>\u001b[1;34m\u001b[0m\n\u001b[1;32m----> 1\u001b[1;33m \u001b[0mT\u001b[0m\u001b[1;33m[\u001b[0m\u001b[1;36m0\u001b[0m\u001b[1;33m]\u001b[0m\u001b[1;33m=\u001b[0m\u001b[1;36m11\u001b[0m\u001b[1;33m\u001b[0m\u001b[1;33m\u001b[0m\u001b[0m\n\u001b[0m",
      "\u001b[1;31mTypeError\u001b[0m: 'tuple' object does not support item assignment"
     ]
    }
   ],
   "source": [
    "T[0]=11"
   ]
  },
  {
   "cell_type": "code",
   "execution_count": 53,
   "id": "e0e05f2a",
   "metadata": {},
   "outputs": [
    {
     "ename": "AttributeError",
     "evalue": "'tuple' object has no attribute 'append'",
     "output_type": "error",
     "traceback": [
      "\u001b[1;31m---------------------------------------------------------------------------\u001b[0m",
      "\u001b[1;31mAttributeError\u001b[0m                            Traceback (most recent call last)",
      "\u001b[1;32m<ipython-input-53-7d232f50a293>\u001b[0m in \u001b[0;36m<module>\u001b[1;34m\u001b[0m\n\u001b[1;32m----> 1\u001b[1;33m \u001b[0mT\u001b[0m\u001b[1;33m.\u001b[0m\u001b[0mappend\u001b[0m\u001b[1;33m(\u001b[0m\u001b[1;33m)\u001b[0m\u001b[1;33m\u001b[0m\u001b[1;33m\u001b[0m\u001b[0m\n\u001b[0m",
      "\u001b[1;31mAttributeError\u001b[0m: 'tuple' object has no attribute 'append'"
     ]
    }
   ],
   "source": [
    "T.append()"
   ]
  },
  {
   "cell_type": "code",
   "execution_count": 54,
   "id": "a1f68d0e",
   "metadata": {},
   "outputs": [
    {
     "data": {
      "text/plain": [
       "(1, 2, [14, 12, 13], 'ML', 11, 12, 13, 45, 65)"
      ]
     },
     "execution_count": 54,
     "metadata": {},
     "output_type": "execute_result"
    }
   ],
   "source": [
    "T1=(11,12,13,45,65)\n",
    "T+T1"
   ]
  },
  {
   "cell_type": "code",
   "execution_count": 55,
   "id": "08cffa4a",
   "metadata": {},
   "outputs": [],
   "source": [
    "L3=list(T)"
   ]
  },
  {
   "cell_type": "code",
   "execution_count": 56,
   "id": "01ac45f2",
   "metadata": {},
   "outputs": [],
   "source": [
    "L3[0]=11"
   ]
  },
  {
   "cell_type": "code",
   "execution_count": 57,
   "id": "6274a826",
   "metadata": {},
   "outputs": [
    {
     "data": {
      "text/plain": [
       "(11, 2, [14, 12, 13], 'ML')"
      ]
     },
     "execution_count": 57,
     "metadata": {},
     "output_type": "execute_result"
    }
   ],
   "source": [
    "T=tuple(L3)\n",
    "T"
   ]
  },
  {
   "cell_type": "code",
   "execution_count": 59,
   "id": "6d0205f1",
   "metadata": {},
   "outputs": [
    {
     "name": "stdout",
     "output_type": "stream",
     "text": [
      "{1, 2, 3, 5, 6}\n"
     ]
    }
   ],
   "source": [
    "st={1,2,3,2,3,5,6,5}\n",
    "print(st)"
   ]
  },
  {
   "cell_type": "code",
   "execution_count": 61,
   "id": "0a768caf",
   "metadata": {},
   "outputs": [],
   "source": [
    "st.add(7)"
   ]
  },
  {
   "cell_type": "code",
   "execution_count": 62,
   "id": "c948d9bd",
   "metadata": {},
   "outputs": [
    {
     "data": {
      "text/plain": [
       "{1, 2, 3, 5, 6, 7}"
      ]
     },
     "execution_count": 62,
     "metadata": {},
     "output_type": "execute_result"
    }
   ],
   "source": [
    "st"
   ]
  },
  {
   "cell_type": "code",
   "execution_count": 64,
   "id": "4655e130",
   "metadata": {},
   "outputs": [
    {
     "data": {
      "text/plain": [
       "{1, 2, 3, 5, 6, 7, 9, 10, 12, 13, 14, 15}"
      ]
     },
     "execution_count": 64,
     "metadata": {},
     "output_type": "execute_result"
    }
   ],
   "source": [
    "st.update([9,10,12],{13,14,13,15})\n",
    "st"
   ]
  },
  {
   "cell_type": "code",
   "execution_count": 66,
   "id": "f2b85f3f",
   "metadata": {},
   "outputs": [
    {
     "data": {
      "text/plain": [
       "{1, 10, 12, 13, 14, 15, 2, 3, 5, 6, 7, 9, 'sagar'}"
      ]
     },
     "execution_count": 66,
     "metadata": {},
     "output_type": "execute_result"
    }
   ],
   "source": [
    "st.add('sagar')\n",
    "st"
   ]
  },
  {
   "cell_type": "code",
   "execution_count": 67,
   "id": "8ab46c45",
   "metadata": {},
   "outputs": [
    {
     "data": {
      "text/plain": [
       "{1, 10, 12, 13, 14, 15, 2, 3, 5, 6, 7, 9, 'sagar'}"
      ]
     },
     "execution_count": 67,
     "metadata": {},
     "output_type": "execute_result"
    }
   ],
   "source": [
    "st.add('sagar')\n",
    "st"
   ]
  },
  {
   "cell_type": "code",
   "execution_count": 68,
   "id": "5eec2cb2",
   "metadata": {},
   "outputs": [
    {
     "data": {
      "text/plain": [
       "{1, 2, 3, 5, 6, 7, 9, 10, 12, 13, 14, 15}"
      ]
     },
     "execution_count": 68,
     "metadata": {},
     "output_type": "execute_result"
    }
   ],
   "source": [
    "st.remove('sagar')\n",
    "st"
   ]
  },
  {
   "cell_type": "code",
   "execution_count": 71,
   "id": "e5591ca8",
   "metadata": {},
   "outputs": [],
   "source": [
    "D={'k1':125,'k2':[1,2,3,4],'k3':(12,34,35,54),'k4':{1,2,3,4,3,2},'k5':'sagar'}"
   ]
  },
  {
   "cell_type": "code",
   "execution_count": 73,
   "id": "dae64c36",
   "metadata": {},
   "outputs": [
    {
     "data": {
      "text/plain": [
       "{'k1': 125,\n",
       " 'k2': [1, 2, 3, 4],\n",
       " 'k3': (12, 34, 35, 54),\n",
       " 'k4': {1, 2, 3, 4},\n",
       " 'k5': 'sagar'}"
      ]
     },
     "execution_count": 73,
     "metadata": {},
     "output_type": "execute_result"
    }
   ],
   "source": [
    "D"
   ]
  },
  {
   "cell_type": "code",
   "execution_count": 78,
   "id": "fd4ef733",
   "metadata": {},
   "outputs": [
    {
     "data": {
      "text/plain": [
       "125"
      ]
     },
     "execution_count": 78,
     "metadata": {},
     "output_type": "execute_result"
    }
   ],
   "source": [
    "D['k1']"
   ]
  },
  {
   "cell_type": "code",
   "execution_count": 79,
   "id": "1556f2b2",
   "metadata": {},
   "outputs": [
    {
     "data": {
      "text/plain": [
       "dict_keys(['k1', 'k2', 'k3', 'k4', 'k5'])"
      ]
     },
     "execution_count": 79,
     "metadata": {},
     "output_type": "execute_result"
    }
   ],
   "source": [
    "D.keys()"
   ]
  },
  {
   "cell_type": "code",
   "execution_count": 80,
   "id": "20d90e54",
   "metadata": {},
   "outputs": [
    {
     "data": {
      "text/plain": [
       "dict_values([125, [1, 2, 3, 4], (12, 34, 35, 54), {1, 2, 3, 4}, 'sagar'])"
      ]
     },
     "execution_count": 80,
     "metadata": {},
     "output_type": "execute_result"
    }
   ],
   "source": [
    "D.values()"
   ]
  },
  {
   "cell_type": "code",
   "execution_count": 81,
   "id": "69f664df",
   "metadata": {},
   "outputs": [],
   "source": [
    "L5=list(D.values())"
   ]
  },
  {
   "cell_type": "code",
   "execution_count": 82,
   "id": "db0da5b4",
   "metadata": {},
   "outputs": [
    {
     "name": "stdout",
     "output_type": "stream",
     "text": [
      "125\n",
      "[1, 2, 3, 4]\n",
      "(12, 34, 35, 54)\n",
      "{1, 2, 3, 4}\n",
      "sagar\n"
     ]
    }
   ],
   "source": [
    "for i in L5:\n",
    "    print(i)"
   ]
  },
  {
   "cell_type": "code",
   "execution_count": 83,
   "id": "40f03604",
   "metadata": {},
   "outputs": [
    {
     "name": "stdout",
     "output_type": "stream",
     "text": [
      "125\n",
      "[1, 2, 3, 4]\n",
      "(12, 34, 35, 54)\n",
      "{1, 2, 3, 4}\n",
      "sagar\n"
     ]
    }
   ],
   "source": [
    "L6=list(D.keys())\n",
    "for i in L6:\n",
    "    print(D[i])"
   ]
  },
  {
   "cell_type": "code",
   "execution_count": 84,
   "id": "2e64db41",
   "metadata": {},
   "outputs": [
    {
     "data": {
      "text/plain": [
       "{'k1': 125,\n",
       " 'k2': [1, 2, 3, 4],\n",
       " 'k3': (12, 34, 35, 54),\n",
       " 'k4': {1, 2, 3, 4},\n",
       " 'k5': 'VIDYA SAGAR'}"
      ]
     },
     "execution_count": 84,
     "metadata": {},
     "output_type": "execute_result"
    }
   ],
   "source": [
    "D['k5']='VIDYA SAGAR'\n",
    "D"
   ]
  },
  {
   "cell_type": "code",
   "execution_count": 85,
   "id": "ab7dcdfc",
   "metadata": {},
   "outputs": [
    {
     "data": {
      "text/plain": [
       "{'k1': 125,\n",
       " 'k2': [1, 2, 3, 4],\n",
       " 'k3': (12, 34, 35, 54),\n",
       " 'k4': {1, 2, 3, 4},\n",
       " 'k5': 'VIDYA SAGAR',\n",
       " 'k6': 'TATA BYE BYE'}"
      ]
     },
     "execution_count": 85,
     "metadata": {},
     "output_type": "execute_result"
    }
   ],
   "source": [
    "D['k6']='TATA BYE BYE'\n",
    "D"
   ]
  },
  {
   "cell_type": "code",
   "execution_count": null,
   "id": "87a3944b",
   "metadata": {},
   "outputs": [],
   "source": []
  }
 ],
 "metadata": {
  "kernelspec": {
   "display_name": "Python 3",
   "language": "python",
   "name": "python3"
  },
  "language_info": {
   "codemirror_mode": {
    "name": "ipython",
    "version": 3
   },
   "file_extension": ".py",
   "mimetype": "text/x-python",
   "name": "python",
   "nbconvert_exporter": "python",
   "pygments_lexer": "ipython3",
   "version": "3.8.8"
  }
 },
 "nbformat": 4,
 "nbformat_minor": 5
}
